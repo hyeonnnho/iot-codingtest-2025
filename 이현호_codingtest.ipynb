{
 "cells": [
  {
   "cell_type": "markdown",
   "id": "3cdc17ba",
   "metadata": {},
   "source": [
    "## 유연근무제\n",
    "프로그래머스 사이트를 운영하는 그렙에서는 재택근무와 함께 출근 희망 시각을 자유롭게 정하는 유연근무제를 시행하고 있습니다. 제도 정착을 위해 오늘부터 일주일 동안 각자 설정한 출근 희망 시각에 늦지 않고 출근한 직원들에게 상품을 주는 이벤트를 진행하려고 합니다.\n",
    "\n",
    "직원들은 일주일동안 자신이 설정한 출근 희망 시각 + 10분까지 어플로 출근해야 합니다. 예를 들어 출근 희망 시각이 9시 58분인 직원은 10시 8분까지 출근해야 합니다. 단, 토요일, 일요일의 출근 시각은 이벤트에 영향을 끼치지 않습니다. 직원들은 매일 한 번씩만 어플로 출근하고, 모든 시각은 시에 100을 곱하고 분을 더한 정수로 표현됩니다. 예를 들어 10시 13분은 1013이 되고 9시 58분은 958이 됩니다.\n",
    "\n",
    "당신은 직원들이 설정한 출근 희망 시각과 실제로 출근한 기록을 바탕으로 상품을 받을 직원이 몇 명인지 알고 싶습니다.\n",
    "\n",
    "직원 n명이 설정한 출근 희망 시각을 담은 1차원 정수 배열 schedules, 직원들이 일주일 동안 출근한 시각을 담은 2차원 정수 배열 timelogs, 이벤트를 시작한 요일을 의미하는 정수 startday가 매개변수로 주어집니다. 이때 상품을 받을 직원의 수를 return 하도록 solution 함수를 완성해주세요.\n",
    "\n",
    "출처 : https://school.programmers.co.kr/learn/courses/30/lessons/388351?language=python3#"
   ]
  },
  {
   "cell_type": "markdown",
   "id": "30b1af70",
   "metadata": {},
   "source": [
    "### 제한사항\n",
    "- 1 ≤ schedules의 길이 = n ≤ 1,000\n",
    "    - schedules[i]는 i + 1번째 직원이 설정한 출근 희망 시각을 의미합니다.\n",
    "    - 700 ≤ schedules[i] ≤ 1100\n",
    "- 1 ≤ timelogs의 길이 = n ≤ 1,000\n",
    "    - timelogs[i]의 길이 = 7\n",
    "    - timelogs[i][j]는 i + 1번째 직원이 이벤트 j + 1일차에 출근한 시각을 의미합니다.\n",
    "    - 600 ≤ timelogs[i][j] ≤ 2359\n",
    "- 1 ≤ startday ≤ 7\n",
    "    - 1은 월요일, 2는 화요일, 3은 수요일, 4는 목요일, 5는 금요일, 6은 토요일, 7은 일요일에 이벤트를 시작했음을 의미합니다.\n",
    "- 출근 희망 시각과 실제로 출근한 시각을 100으로 나눈 나머지는 59 이하입니다."
   ]
  },
  {
   "cell_type": "code",
   "execution_count": 1,
   "id": "7da5ecb4",
   "metadata": {},
   "outputs": [],
   "source": [
    "def solution(schedules, timelogs, startday):\n",
    "    def add_time(time):\n",
    "        hour = time // 100\n",
    "        minute = time % 100\n",
    "        minute += 10\n",
    "        if minute >= 60:\n",
    "            hour += 1\n",
    "            minute -= 60\n",
    "        return hour * 100 + minute\n",
    "\n",
    "    count = 0\n",
    "    for i in range(len(schedules)):\n",
    "        success = True\n",
    "        for j in range(7):\n",
    "            day = (startday - 1 + j) % 7 + 1\n",
    "            if day in [6, 7]:\n",
    "                continue\n",
    "            # 마감 시간 계산\n",
    "            deadline = add_time(schedules[i])\n",
    "            # 출근 시각 비교\n",
    "            if timelogs[i][j] > deadline:\n",
    "                success = False\n",
    "                break\n",
    "        if success:\n",
    "            count += 1\n",
    "    return count\n"
   ]
  },
  {
   "cell_type": "code",
   "execution_count": 3,
   "id": "f98af72c",
   "metadata": {},
   "outputs": [
    {
     "name": "stdout",
     "output_type": "stream",
     "text": [
      "1\n",
      "2\n",
      "1\n",
      "1\n",
      "1\n"
     ]
    }
   ],
   "source": [
    "## 테스트 케이스\n",
    "### 1\n",
    "schedules = [900]\n",
    "timelogs = [[900, 905, 902, 903, 901, 950, 955]]\n",
    "startday = 1\n",
    "print(solution(schedules, timelogs, startday))\n",
    "\n",
    "### 2\n",
    "schedules = [800, 900, 1000]\n",
    "timelogs = [\n",
    "    [810, 805, 803, 800, 801, 850, 900],  # 성공\n",
    "    [910, 905, 920, 930, 800, 901, 902],  # 실패 (1일차 지각)\n",
    "    [1001, 1000, 1009, 1005, 1000, 1100, 1050]  # 성공\n",
    "]\n",
    "startday = 1\n",
    "print(solution(schedules, timelogs, startday))\n",
    "\n",
    "### 3\n",
    "schedules = [900, 1000]\n",
    "timelogs = [\n",
    "    [900, 859, 900, 905, 906, 700, 800], \n",
    "    [1005, 1011, 1000, 1001, 1010, 900, 905]  \n",
    "]\n",
    "startday = 3 \n",
    "print(solution(schedules, timelogs, startday))\n",
    "\n",
    "### 4\n",
    "schedules = [958, 845]\n",
    "timelogs = [\n",
    "    [959, 1005, 1008, 1009, 1000, 1100, 1200], \n",
    "    [845, 849, 855, 850, 844, 900, 910]  \n",
    "]\n",
    "startday = 1\n",
    "print(solution(schedules, timelogs, startday))\n",
    "\n",
    "### 5\n",
    "schedules = [800, 830, 905, 1100]\n",
    "timelogs = [\n",
    "    [805, 804, 806, 800, 801, 900, 1000], \n",
    "    [840, 835, 831, 834, 830, 840, 850], \n",
    "    [910, 920, 930, 900, 950, 910, 915],  \n",
    "    [1105, 1110, 1120, 1100, 1108, 1105, 1107]  \n",
    "]\n",
    "startday = 4  # 목요일\n",
    "print(solution(schedules, timelogs, startday))\n"
   ]
  }
 ],
 "metadata": {
  "kernelspec": {
   "display_name": "3.11.9",
   "language": "python",
   "name": "python3"
  },
  "language_info": {
   "codemirror_mode": {
    "name": "ipython",
    "version": 3
   },
   "file_extension": ".py",
   "mimetype": "text/x-python",
   "name": "python",
   "nbconvert_exporter": "python",
   "pygments_lexer": "ipython3",
   "version": "3.11.9"
  }
 },
 "nbformat": 4,
 "nbformat_minor": 5
}
